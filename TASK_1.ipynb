{
  "nbformat": 4,
  "nbformat_minor": 0,
  "metadata": {
    "colab": {
      "provenance": []
    },
    "kernelspec": {
      "name": "python3",
      "display_name": "Python 3"
    },
    "language_info": {
      "name": "python"
    }
  },
  "cells": [
    {
      "cell_type": "code",
      "execution_count": null,
      "metadata": {
        "colab": {
          "base_uri": "https://localhost:8080/"
        },
        "id": "V1mswcmwiMQV",
        "outputId": "da7bead8-a00d-4887-bc4e-ff96a8b4e6fa"
      },
      "outputs": [
        {
          "output_type": "stream",
          "name": "stdout",
          "text": [
            "Patient Name: John Doe\n",
            "Patient Age: 35\n",
            "Patient BMI: 24.5\n"
          ]
        }
      ],
      "source": [
        "\n",
        "patient_name = \"John Doe\"\n",
        "patient_age = 35\n",
        "patient_bmi = 24.5\n",
        "\n",
        "print(\"Patient Name:\", patient_name)\n",
        "print(\"Patient Age:\", patient_age)\n",
        "print(\"Patient BMI:\", patient_bmi)"
      ]
    },
    {
      "cell_type": "markdown",
      "source": [
        "1"
      ],
      "metadata": {
        "id": "_aX3qMrkioZ0"
      }
    },
    {
      "cell_type": "code",
      "source": [
        "\n",
        "patient_name = \"John Doe\"\n",
        "patient_age = 35\n",
        "patient_bmi = 24.5\n",
        "\n",
        "\n",
        "print(\"Patient Name:\", patient_name)\n",
        "print(\"Patient Age:\", patient_age)\n",
        "print(\"Patient BMI:\", patient_bmi)"
      ],
      "metadata": {
        "colab": {
          "base_uri": "https://localhost:8080/"
        },
        "id": "mXs93xSnir2b",
        "outputId": "ed428017-cd1b-42b9-baea-0dce41f185f8"
      },
      "execution_count": null,
      "outputs": [
        {
          "output_type": "stream",
          "name": "stdout",
          "text": [
            "Patient Name: John Doe\n",
            "Patient Age: 35\n",
            "Patient BMI: 24.5\n"
          ]
        }
      ]
    },
    {
      "cell_type": "markdown",
      "source": [
        "2"
      ],
      "metadata": {
        "id": "VmJjE0PDixzD"
      }
    },
    {
      "cell_type": "code",
      "source": [
        "\n",
        "def get_bmi_category(bmi):\n",
        "    if bmi < 18.5:\n",
        "        return \"Underweight\"\n",
        "    elif 18.5 <= bmi < 24.9:\n",
        "        return \"Normal weight\"\n",
        "    elif 25 <= bmi < 29.9:\n",
        "        return \"Overweight\"\n",
        "    else:\n",
        "        return \"Obese\"\n",
        "\n",
        "\n",
        "patient_name = \"John Doe\"\n",
        "patient_bmi = 24.5\n",
        "\n",
        "bmi_category = get_bmi_category(patient_bmi)\n",
        "\n",
        "print(f\"Patient Name: {patient_name}\")\n",
        "print(f\"BMI: {patient_bmi}\")\n",
        "print(f\"BMI Category: {bmi_category}\")"
      ],
      "metadata": {
        "colab": {
          "base_uri": "https://localhost:8080/"
        },
        "id": "aX0Bo6i1i-Ab",
        "outputId": "2a6afc81-6f30-4607-9871-32e1c3bb0800"
      },
      "execution_count": null,
      "outputs": [
        {
          "output_type": "stream",
          "name": "stdout",
          "text": [
            "Patient Name: John Doe\n",
            "BMI: 24.5\n",
            "BMI Category: Normal weight\n"
          ]
        }
      ]
    },
    {
      "cell_type": "markdown",
      "source": [
        "3"
      ],
      "metadata": {
        "id": "MY0Ae4HajCbr"
      }
    },
    {
      "cell_type": "code",
      "source": [
        "import numpy as np\n",
        "\n",
        "heart_rates = np.array([72, 78, 80, 75, 74, 79, 77])\n",
        "\n",
        "\n",
        "average_heart_rate = np.mean(heart_rates)\n",
        "highest_heart_rate = np.max(heart_rates)\n",
        "lowest_heart_rate = np.min(heart_rates)\n",
        "\n",
        "\n",
        "print(\"Heart Rate Readings for the Week:\", heart_rates)\n",
        "print(f\"Average Heart Rate: {average_heart_rate:.2f} bpm\")\n",
        "print(f\"Highest Heart Rate: {highest_heart_rate} bpm\")\n",
        "print(f\"Lowest Heart Rate: {lowest_heart_rate} bpm\")"
      ],
      "metadata": {
        "colab": {
          "base_uri": "https://localhost:8080/"
        },
        "id": "msAKQMrpjDuC",
        "outputId": "a43a3f6f-2a4c-47d7-d6c5-f16363b1709f"
      },
      "execution_count": null,
      "outputs": [
        {
          "output_type": "stream",
          "name": "stdout",
          "text": [
            "Heart Rate Readings for the Week: [72 78 80 75 74 79 77]\n",
            "Average Heart Rate: 76.43 bpm\n",
            "Highest Heart Rate: 80 bpm\n",
            "Lowest Heart Rate: 72 bpm\n"
          ]
        }
      ]
    },
    {
      "cell_type": "markdown",
      "source": [
        "4"
      ],
      "metadata": {
        "id": "8UTud-erjWHb"
      }
    },
    {
      "cell_type": "code",
      "source": [
        "import pandas as pd\n",
        "\n",
        "\n",
        "data = {\n",
        "    \"Name\": [\"John Doe\", \"Alice Smith\", \"Bob Johnson\", \"Emma Brown\"],\n",
        "    \"Age\": [45, 52, 37, 60],\n",
        "    \"Cholesterol Level (mg/dL)\": [190, 220, 175, 240]\n",
        "}\n",
        "\n",
        "\n",
        "patient_df = pd.DataFrame(data)\n",
        "\n",
        "print(\"Patient Record DataFrame:\")\n",
        "print(patient_df)"
      ],
      "metadata": {
        "colab": {
          "base_uri": "https://localhost:8080/"
        },
        "id": "nHK4-YGKjW_K",
        "outputId": "2e194849-ce73-4dfc-f889-579564763a07"
      },
      "execution_count": null,
      "outputs": [
        {
          "output_type": "stream",
          "name": "stdout",
          "text": [
            "Patient Record DataFrame:\n",
            "          Name  Age  Cholesterol Level (mg/dL)\n",
            "0     John Doe   45                        190\n",
            "1  Alice Smith   52                        220\n",
            "2  Bob Johnson   37                        175\n",
            "3   Emma Brown   60                        240\n"
          ]
        }
      ]
    },
    {
      "cell_type": "markdown",
      "source": [
        "5"
      ],
      "metadata": {
        "id": "gJ8g0l10jeyz"
      }
    },
    {
      "cell_type": "code",
      "source": [
        "import pandas as pd\n",
        "\n",
        "data = {\n",
        "    \"Name\": [\"John Doe\", \"Alice Smith\", \"Bob Johnson\", \"Emma Brown\", \"David Lee\"],\n",
        "    \"Age\": [45, 52, 37, 60, 55],\n",
        "    \"Cholesterol Level (mg/dL)\": [190, 220, 175, 240, 210]\n",
        "}\n",
        "patient_df = pd.DataFrame(data)\n",
        "\n",
        "cholesterol_threshold = 200\n",
        "\n",
        "high_risk_patients = patient_df[patient_df[\"Cholesterol Level (mg/dL)\"] > cholesterol_threshold]\n",
        "\n",
        "print(\"High-Risk Patients (Cholesterol > 200 mg/dL):\")\n",
        "print(high_risk_patients)"
      ],
      "metadata": {
        "colab": {
          "base_uri": "https://localhost:8080/"
        },
        "id": "v-fXGPA0jgTb",
        "outputId": "a1c94cdf-5603-48f6-ac0f-0e2171f51894"
      },
      "execution_count": null,
      "outputs": [
        {
          "output_type": "stream",
          "name": "stdout",
          "text": [
            "High-Risk Patients (Cholesterol > 200 mg/dL):\n",
            "          Name  Age  Cholesterol Level (mg/dL)\n",
            "1  Alice Smith   52                        220\n",
            "3   Emma Brown   60                        240\n",
            "4    David Lee   55                        210\n"
          ]
        }
      ]
    },
    {
      "cell_type": "markdown",
      "source": [
        "6"
      ],
      "metadata": {
        "id": "QB3eUwRejryz"
      }
    },
    {
      "cell_type": "code",
      "source": [
        "import pandas as pd\n",
        "\n",
        "data = {\n",
        "    \"Name\": [\"John Doe\", \"Alice Smith\", \"Bob Johnson\", \"Emma Brown\", \"David Lee\"],\n",
        "    \"Age\": [45, 52, 37, 60, 55],\n",
        "    \"BMI\": [27.5, 30.2, 22.8, 33.1, 25.6]\n",
        "}\n",
        "\n",
        "patient_df = pd.DataFrame(data)\n",
        "\n",
        "\n",
        "sorted_patients = patient_df.sort_values(by=\"BMI\", ascending=False)\n",
        "\n",
        "print(\"Patients Sorted by BMI (Highest to Lowest):\")\n",
        "print(sorted_patients)"
      ],
      "metadata": {
        "colab": {
          "base_uri": "https://localhost:8080/"
        },
        "id": "RY9kmAhjjtVi",
        "outputId": "46a14560-9ce3-49d8-e5f3-5ef40fc43af3"
      },
      "execution_count": null,
      "outputs": [
        {
          "output_type": "stream",
          "name": "stdout",
          "text": [
            "Patients Sorted by BMI (Highest to Lowest):\n",
            "          Name  Age   BMI\n",
            "3   Emma Brown   60  33.1\n",
            "1  Alice Smith   52  30.2\n",
            "0     John Doe   45  27.5\n",
            "4    David Lee   55  25.6\n",
            "2  Bob Johnson   37  22.8\n"
          ]
        }
      ]
    },
    {
      "cell_type": "markdown",
      "source": [
        "7"
      ],
      "metadata": {
        "id": "XjuOYadIj7sz"
      }
    },
    {
      "cell_type": "code",
      "source": [
        "import pandas as pd\n",
        "\n",
        "data = {\n",
        "    \"Name\": [\"John Doe\", \"Alice Smith\", \"Bob Johnson\", \"Emma Brown\", \"David Lee\"],\n",
        "    \"Age\": [45, 52, 37, 60, 55],\n",
        "    \"BMI\": [27.5, 30.2, 22.8, 33.1, 25.6],\n",
        "    \"Cholesterol Level (mg/dL)\": [190, 220, 175, 240, 210]\n",
        "}\n",
        "\n",
        "\n",
        "patient_df = pd.DataFrame(data)\n",
        "\n",
        "\n",
        "def classify_risk(bmi, cholesterol):\n",
        "    if bmi >= 30 or cholesterol > 220:\n",
        "        return \"High\"\n",
        "    elif bmi >= 25 or cholesterol > 200:\n",
        "        return \"Medium\"\n",
        "    else:\n",
        "        return \"Low\"\n",
        "\n",
        "\n",
        "patient_df[\"Risk Level\"] = patient_df.apply(lambda row: classify_risk(row[\"BMI\"], row[\"Cholesterol Level (mg/dL)\"]), axis=1)\n",
        "\n",
        "\n",
        "print(\"Patients with Risk Level Classification:\")\n",
        "print(patient_df)"
      ],
      "metadata": {
        "colab": {
          "base_uri": "https://localhost:8080/"
        },
        "id": "wQbMRGpBj8sq",
        "outputId": "66773c55-2637-4598-ad1a-a0c9b56ac3f2"
      },
      "execution_count": null,
      "outputs": [
        {
          "output_type": "stream",
          "name": "stdout",
          "text": [
            "Patients with Risk Level Classification:\n",
            "          Name  Age   BMI  Cholesterol Level (mg/dL) Risk Level\n",
            "0     John Doe   45  27.5                        190     Medium\n",
            "1  Alice Smith   52  30.2                        220       High\n",
            "2  Bob Johnson   37  22.8                        175        Low\n",
            "3   Emma Brown   60  33.1                        240       High\n",
            "4    David Lee   55  25.6                        210     Medium\n"
          ]
        }
      ]
    },
    {
      "cell_type": "markdown",
      "source": [
        "8"
      ],
      "metadata": {
        "id": "d9qayC3KmPpz"
      }
    },
    {
      "cell_type": "code",
      "source": [
        "import pandas as pd\n",
        "from google.colab import files\n",
        "\n",
        "patient_df.to_csv(\"cleaned_patient_data.csv\", index=False)\n",
        "files.download(\"cleaned_patient_data.csv\") # Call the download function with the file name"
      ],
      "metadata": {
        "colab": {
          "base_uri": "https://localhost:8080/",
          "height": 34
        },
        "id": "WKOG_lxClacT",
        "outputId": "4a466716-c434-487a-8fed-8595ec20f95d"
      },
      "execution_count": null,
      "outputs": [
        {
          "output_type": "display_data",
          "data": {
            "text/plain": [
              "<IPython.core.display.Javascript object>"
            ],
            "application/javascript": [
              "\n",
              "    async function download(id, filename, size) {\n",
              "      if (!google.colab.kernel.accessAllowed) {\n",
              "        return;\n",
              "      }\n",
              "      const div = document.createElement('div');\n",
              "      const label = document.createElement('label');\n",
              "      label.textContent = `Downloading \"${filename}\": `;\n",
              "      div.appendChild(label);\n",
              "      const progress = document.createElement('progress');\n",
              "      progress.max = size;\n",
              "      div.appendChild(progress);\n",
              "      document.body.appendChild(div);\n",
              "\n",
              "      const buffers = [];\n",
              "      let downloaded = 0;\n",
              "\n",
              "      const channel = await google.colab.kernel.comms.open(id);\n",
              "      // Send a message to notify the kernel that we're ready.\n",
              "      channel.send({})\n",
              "\n",
              "      for await (const message of channel.messages) {\n",
              "        // Send a message to notify the kernel that we're ready.\n",
              "        channel.send({})\n",
              "        if (message.buffers) {\n",
              "          for (const buffer of message.buffers) {\n",
              "            buffers.push(buffer);\n",
              "            downloaded += buffer.byteLength;\n",
              "            progress.value = downloaded;\n",
              "          }\n",
              "        }\n",
              "      }\n",
              "      const blob = new Blob(buffers, {type: 'application/binary'});\n",
              "      const a = document.createElement('a');\n",
              "      a.href = window.URL.createObjectURL(blob);\n",
              "      a.download = filename;\n",
              "      div.appendChild(a);\n",
              "      a.click();\n",
              "      div.remove();\n",
              "    }\n",
              "  "
            ]
          },
          "metadata": {}
        },
        {
          "output_type": "display_data",
          "data": {
            "text/plain": [
              "<IPython.core.display.Javascript object>"
            ],
            "application/javascript": [
              "download(\"download_32cd943e-8f3f-4c3e-963b-de127a666ce9\", \"cleaned_patient_data.csv\", 192)"
            ]
          },
          "metadata": {}
        }
      ]
    }
  ]
}